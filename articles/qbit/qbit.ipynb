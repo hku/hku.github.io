{
 "cells": [
  {
   "cell_type": "markdown",
   "metadata": {},
   "source": [
    "# single qbit\n",
    "\n"
   ]
  },
  {
   "cell_type": "markdown",
   "metadata": {},
   "source": [
    "### state"
   ]
  },
  {
   "cell_type": "markdown",
   "metadata": {
    "collapsed": true
   },
   "source": [
    "eigen states: $\\left|0\\right\\rangle$ ($\\uparrow$), $\\left|1\\right\\rangle$ ($\\downarrow$) \n",
    "\n",
    "arbitray state: $\\left|\\psi\\right\\rangle = e^{i\\gamma}\\left[\\cos\\left({\\theta\\over2}\\right)\\left|0\\right\\rangle + e^{i\\phi}\\sin\\left({\\theta\\over2}\\right)\\left|1\\right\\rangle\\right]$"
   ]
  },
  {
   "cell_type": "markdown",
   "metadata": {},
   "source": [
    "### operator\n"
   ]
  },
  {
   "cell_type": "markdown",
   "metadata": {},
   "source": [
    "Z-gate, X-gate, H-gate:\n",
    "$$ Z=\\begin{bmatrix}1&\\\\&-1\\end{bmatrix},\\qquad X=\\begin{bmatrix}&1\\\\1&\\end{bmatrix},\\qquad H={1\\over\\sqrt2}\\begin{bmatrix}1&1\\\\1&-1\\end{bmatrix}$$\n",
    "\n",
    "arbitray operator (gate):\n",
    "$$U=e^{i\\alpha}\\begin{bmatrix}e^{-i\\beta/2}&\\\\&e^{i\\beta/2}\\end{bmatrix}\\begin{bmatrix}\\cos(\\gamma/2)&-\\sin(\\gamma/2)\\\\\\sin(\\gamma/2)&\\cos(\\gamma/2)\\end{bmatrix}\\begin{bmatrix}e^{-i\\delta/2}&\\\\&e^{i\\delta/2}\\end{bmatrix}$$\n"
   ]
  },
  {
   "cell_type": "markdown",
   "metadata": {},
   "source": [
    "### gate"
   ]
  },
  {
   "cell_type": "markdown",
   "metadata": {},
   "source": [
    "graphic notation: $$(\\text{input state})-\\boxed{U}-(\\text{output state})\\quad\\text{which means}\\quad U\\left|\\text{input state}\\right\\rangle = \\left|\\text{output state}\\right\\rangle$$ e.g., \n",
    "\n",
    "$$ \\alpha\\left|0\\right\\rangle+\\beta\\left|1\\right\\rangle\\;-\\boxed{X}-\\;  \\beta\\left|0\\right\\rangle+\\alpha\\left|1\\right\\rangle\\qquad $$\n",
    "\n",
    "\n",
    "X gate plays a role similar to classical NOT gate, because $X|0\\rangle=|1\\rangle,\\;X|1\\rangle=|0\\rangle$, or described by graph:\n",
    "$$ b\\;-\\boxed{X}-\\;\\overline{b}$$\n",
    "here we use $\\left|b\\right\\rangle$ denote $|0\\rangle$ or $|1\\rangle$; use $\\overline{b}$ denote \"complement of b\", i.e., $\\overline{0}=1,\\;\\overline{1}=0$"
   ]
  },
  {
   "cell_type": "markdown",
   "metadata": {},
   "source": [
    "# double qbits"
   ]
  },
  {
   "cell_type": "markdown",
   "metadata": {},
   "source": [
    "### state"
   ]
  },
  {
   "cell_type": "markdown",
   "metadata": {},
   "source": [
    "simple states: $$\\left|00\\right\\rangle,\\;\\left|01\\right\\rangle,\\;\\left|10\\right\\rangle,\\;\\left|11\\right\\rangle$$\n",
    "\n",
    "ERP states: $$\\left|\\beta_{00}\\right\\rangle={\\left|00\\right\\rangle + \\left|11\\right\\rangle\\over\\sqrt2},\\;\\left|\\beta_{01}\\right\\rangle={\\left|01\\right\\rangle + \\left|10\\right\\rangle\\over\\sqrt2},\\;\\left|\\beta_{10}\\right\\rangle={\\left|00\\right\\rangle - \\left|11\\right\\rangle\\over\\sqrt2},\\;\\left|\\beta_{11}\\right\\rangle={\\left|01\\right\\rangle - \\left|10\\right\\rangle\\over\\sqrt2}$$\n",
    "\n",
    "arbitray state: $$ \\left|\\psi\\right\\rangle = \\alpha_{00}\\left|00\\right\\rangle + \\alpha_{01}\\left|01\\right\\rangle + \\alpha_{10}\\left|10\\right\\rangle + \\alpha_{11}\\left|11\\right\\rangle \\equiv\\left(\\begin{matrix}\\alpha_{00}\\\\\\alpha_{01}\\\\\\alpha_{10}\\\\\\alpha_{11}\\end{matrix}\\right)$$\n"
   ]
  },
  {
   "cell_type": "markdown",
   "metadata": {},
   "source": [
    "### operator"
   ]
  },
  {
   "cell_type": "markdown",
   "metadata": {},
   "source": [
    "unitary operators for 2-qbits are $4\\times4$ matrix, e.g., $U_{CN}\\equiv\\begin{bmatrix}1&&&\\\\&1&&\\\\&&&1\\\\&&1&\\end{bmatrix}$  (CN means \"controlled-not\")\n",
    "\n",
    "use $\\left|a,b\\right\\rangle$ denote one of the simple states $\\left|00\\right\\rangle,\\;\\left|01\\right\\rangle,\\;\\left|10\\right\\rangle,\\;\\left|11\\right\\rangle$\n",
    "\n",
    "use $a\\oplus b$ denote \"addition modulo 2\", i.e., $0\\oplus0=0,\\;0\\oplus1=1,\\;1\\oplus0=1,\\;1\\oplus1=0$; use $\\overline{b}$ denote \"complement of b\", i.e., $\\overline{0}=1,\\;\\overline{1}=0$ \n",
    "\n",
    "then $U_{CN}\\left|a,b\\right\\rangle\\equiv\\left|a,a\\oplus b\\right\\rangle$, i.e., $U_{CN}\\left|0,b\\right\\rangle\\equiv\\left|0,b\\right\\rangle,\\; U_{CN}\\left|1,b\\right\\rangle\\equiv\\left|1,\\overline{b}\\right\\rangle$, which is the exact meaning of \"controlled not\"\n",
    "\n",
    "to formulate explicitly:\n",
    "\n",
    "$$U_{CN}\\left|11\\right\\rangle\\equiv\\begin{bmatrix}1&&&\\\\&1&&\\\\&&&1\\\\&&1&\\end{bmatrix}\n",
    "\\left(\\begin{matrix}0\\\\0\\\\0\\\\1\\end{matrix}\\right)=\\left(\\begin{matrix}0\\\\0\\\\1\\\\0\\end{matrix}\\right)\\equiv\\left|10\\right\\rangle$$"
   ]
  },
  {
   "cell_type": "markdown",
   "metadata": {},
   "source": [
    "### gate"
   ]
  },
  {
   "cell_type": "markdown",
   "metadata": {},
   "source": [
    "controlled-not gate $U_{CN}$ is always described by the graph:\n",
    "\n",
    "![abc](./cnot1.jpg) or ![abc](./cnot2.jpg)\n",
    "\n",
    "$U_{CN}$ gate could compose the \"swap-gate\" by the graph:\n",
    "\n",
    "![abc](./swap.jpg)\n",
    "\n",
    "to formulate explicitly:\n",
    "\n",
    "$$\\begin{bmatrix}1&&&\\\\&1&&\\\\&&&1\\\\&&1&\\end{bmatrix}\\begin{bmatrix}1&&&\\\\&&&1\\\\&&1&\\\\&1&&\\end{bmatrix}\n",
    "\\begin{bmatrix}1&&&\\\\&1&&\\\\&&&1\\\\&&1&\\end{bmatrix}\\equiv \\begin{bmatrix}1&&&\\\\&&1&\\\\&1&&\\\\&&&1\\end{bmatrix}\\equiv U_{swap}$$\n",
    "\n",
    "$$U_{swap}|01\\rangle\\equiv\\begin{bmatrix}1&&&\\\\&&1&\\\\&1&&\\\\&&&1\\end{bmatrix}\n",
    "\\left(\\begin{matrix}0\\\\1\\\\0\\\\0\\end{matrix}\\right)=\\left(\\begin{matrix}0\\\\0\\\\1\\\\0\\end{matrix}\\right)\\equiv\n",
    "|10\\rangle$$"
   ]
  },
  {
   "cell_type": "markdown",
   "metadata": {},
   "source": [
    "### qbit can not clone"
   ]
  },
  {
   "cell_type": "markdown",
   "metadata": {},
   "source": [
    "CNOT gate $U_{CN}$ can be used to clone a \"simple state\" that is $|0\\rangle$ or $|1\\rangle$. because if we fixed $b=0$, and regard $a$ as the qbit to be cloned, we have,\n",
    "\n",
    "$$U_{CN}|a,b=0\\rangle=|a,a\\oplus0\\rangle=|a,a\\rangle, \\qquad a=0 \\text{ or } 1$$\n",
    "\n",
    "this equation shows that the state of particle-1 state is cloned to the state of particle-2 which is 0 in the beginning. This clone mechanism fails for an arbitary state $|\\psi\\rangle=(\\alpha|0\\rangle+\\beta|1\\rangle)|0\\rangle=\\alpha|00\\rangle+\\beta|10\\rangle$, because,\n",
    "\n",
    "$$U_{CN}|\\psi\\rangle\\equiv\\begin{bmatrix}1&&&\\\\&1&&\\\\&&&1\\\\&&1&\\end{bmatrix}\n",
    "\\left(\\begin{matrix}\\alpha\\\\0\\\\\\beta\\\\0\\end{matrix}\\right)=\\left(\\begin{matrix}\\alpha\\\\0\\\\0\\\\\\beta\\end{matrix}\\right)\n",
    "\\equiv\\alpha|00\\rangle+\\beta|11\\rangle\\ne (\\alpha|0\\rangle+\\beta|1\\rangle)(\\alpha|0\\rangle+\\beta|1\\rangle)\\equiv\\alpha^2|00\\rangle+\\beta^2|11\\rangle+\\alpha\\beta|01\\rangle+\\alpha\\beta|10\\rangle$$\n",
    "\n",
    "This is a heuristic proof of why \"classic bit\" can be cloned, and \"qbit\" can not be cloned!\n"
   ]
  },
  {
   "cell_type": "markdown",
   "metadata": {},
   "source": [
    "### quantum teleportation"
   ]
  },
  {
   "cell_type": "markdown",
   "metadata": {},
   "source": [
    "see 1.3.7 Example: quantum teleportation  of book \"Quantum Computation and Quantum Information\""
   ]
  },
  {
   "cell_type": "markdown",
   "metadata": {},
   "source": [
    "### Quantum parallelism"
   ]
  },
  {
   "cell_type": "markdown",
   "metadata": {},
   "source": [
    "make use of composition of wave functions to determine some global properties in a single measurement, see 1.4.2 Quantum parallelism of book \"Quantum Computation and Quantum Information\""
   ]
  }
 ],
 "metadata": {
  "kernelspec": {
   "display_name": "Python 2",
   "language": "python",
   "name": "python2"
  },
  "language_info": {
   "codemirror_mode": {
    "name": "ipython",
    "version": 2
   },
   "file_extension": ".py",
   "mimetype": "text/x-python",
   "name": "python",
   "nbconvert_exporter": "python",
   "pygments_lexer": "ipython2",
   "version": "2.7.13"
  }
 },
 "nbformat": 4,
 "nbformat_minor": 0
}
